{
 "cells": [
  {
   "cell_type": "code",
   "execution_count": 8,
   "metadata": {},
   "outputs": [],
   "source": [
    "import spacy"
   ]
  },
  {
   "cell_type": "code",
   "execution_count": 9,
   "metadata": {},
   "outputs": [],
   "source": [
    "#model_sm = 'models/ner_sm_do02_ep10_bs64'\n",
    "#model_md = 'models/ner_med4_sametest_dp_03_e_10_bs_32_md'\n",
    "model_lg = 'models/ner_per_and_org_4_dp_01_e_10_bs_256_lg'"
   ]
  },
  {
   "cell_type": "code",
   "execution_count": 10,
   "metadata": {},
   "outputs": [],
   "source": [
    "def load_spacy_model(model_path, base_model = \"en_core_web_sm\"):\n",
    "\n",
    "    nlp = spacy.load(base_model)\n",
    "    file = open(f'{model_path}/bytes_data.bin',\"rb\")\n",
    "    bytes_data = file.read()\n",
    "    config = nlp.config\n",
    "    lang_cls = spacy.util.get_lang_class(\"en\")\n",
    "    nlp = lang_cls.from_config(config)\n",
    "    nlp = nlp.from_disk(f'{model_path}')\n",
    "    \n",
    "    return nlp"
   ]
  },
  {
   "attachments": {},
   "cell_type": "markdown",
   "metadata": {},
   "source": [
    "---\n",
    "# Predictions"
   ]
  },
  {
   "cell_type": "code",
   "execution_count": 11,
   "metadata": {},
   "outputs": [],
   "source": [
    "colmap = {'geo': '\\033[93m\\033[1m',\n",
    " 'tim': '\\033[95m\\033[1m',\n",
    " 'gpe': '\\033[92m\\033[1m',\n",
    " 'nat': '\\033[96m\\033[1m',\n",
    " 'normal': '\\033[0m'}\n",
    "\n",
    "def highlight_entities(text, ents):\n",
    "    blue_bold_char = '\\033[94m\\033[1m'\n",
    "    back_to_normal = '\\033[0m'\n",
    "\n",
    "    previous_end=0\n",
    "    text_h =\"\"\n",
    "    for ent in ents[\"entities\"]:\n",
    "\n",
    "        start=ent[0]\n",
    "        end=ent[1]\n",
    "        ent_val = text[start:end]\n",
    "        try:\n",
    "            text_h = text_h + text[previous_end:start]+colmap[ent[2]] +ent_val+back_to_normal\n",
    "        except:\n",
    "            text_h = text_h + text[previous_end:start]+blue_bold_char +ent_val+back_to_normal\n",
    "        previous_end = end\n",
    "    text_h = text_h+text[previous_end:]\n",
    "    print(text_h)\n",
    "\n",
    "def text_to_entities(text, nlp):\n",
    "    print(colmap['geo'] + 'GEOGRAPHICAL ENTITIY' + colmap['normal'], '||',\n",
    "        colmap['tim'] + 'TIME INDICATOR' + colmap['normal'],'||',\n",
    "        colmap['gpe'] + 'GEOPOLITICAL ENTITIY' + colmap['normal'],'||',\n",
    "        colmap['nat'] + 'NATURAL PHENOMENON' + colmap['normal'])\n",
    "    print('')\n",
    "    doc = nlp(text)   \n",
    "    ents = doc.ents\n",
    "    entites = []\n",
    "    for ent in ents:\n",
    "        entites.append((ent.start_char, ent.end_char, ent.label_))\n",
    "        \n",
    "    output = (text, {\"entities\":entites})\n",
    "    highlight_entities(output[0], output[1])\n",
    "    return output"
   ]
  },
  {
   "cell_type": "code",
   "execution_count": 12,
   "metadata": {},
   "outputs": [],
   "source": [
    "large = load_spacy_model(model_lg, base_model='en_core_web_lg')\n",
    "medium = load_spacy_model(model_md, base_model='en_core_web_md')\n",
    "small = load_spacy_model(model_sm, base_model='en_core_web_sm')"
   ]
  },
  {
   "attachments": {},
   "cell_type": "markdown",
   "metadata": {},
   "source": [
    "---\n",
    "##### All three spacy models were first trained and then used for prediciton, finally the best model is used to predict a big chunk of text"
   ]
  },
  {
   "cell_type": "code",
   "execution_count": 7,
   "metadata": {},
   "outputs": [],
   "source": [
    "text1 = '''\n",
    "Germany is facing a backlash from allies over its reluctance to supply Leopard 2 tanks to bolster Ukraine’s fighting capacity in the nearly year-long war with Russia.On Friday, 50 countries agreed to provide Kyiv with billions of dollars’ worth of military hardware, including armoured vehicles and munitions needed to push back Russian forces.But the German defence minister, Boris Pistorius, told reporters at the US Ramstein airbase in Germany that despite heightened expectations, “we still cannot say when a decision will be taken, and what the decision will be, when it comes to the Leopard tank”.Ukraine on Saturday denounced the “global indecision” of its allies in providing heavy-duty modern tanks, saying “today’s indecision is killing more of our people”.“Every day of delay is the death of Ukrainians. Think faster,” tweeted presidential adviser Mykhailo Podolyak.Several allies echoed the Ukrainian president, Volodymyr Zelenskiy, in saying the tanks were essential to Ukraine’s fight with its much larger neighbour.\n",
    "'''\n",
    "\n",
    "text2 = '''\n",
    "When the fiercest hurricane ever recorded in the Atlantic is bearing down on you, a salvaged armchair under a wood-and-tin awning might seem a poor choice of shelter. But that's where Don E. (\"I'd rather keep my last name out of it\") was parked when Wilma hit South Florida at 6:30 a.m. last October 24. For Don and a buddy, it was the start of the workday at Jimbo's Place, a ramshackle beer and bait shop down by the water on Miami's Virginia Key. \"Once we got out here, it was kind of too late to do anything but ride it out,\" Don says with a small laugh. Jimbo's looks like nothing so much as an abandoned shack. But whether through good luck or unexpectedly sound construction, it survived Wilma's fury. Mercifully, the winds had ebbed from 185 miles per hour (297.7 kilometers per hour) at sea to 120 miles per hour (193.1 kilometers per hour) by the time the storm hit, but Wilma still left almost all of South Florida without power. For the next two weeks a generator and donated bags of ice kept Jimbo's open—the only establishment on the key where visitors could be assured of a cold beer and a friendly welcome. Wilma was a record breaker in a season of unsettling records. Katrina, at the end of August, killed more than a thousand people and left much of New Orleans and the neighboring coast in ruins. The damage exceeded a hundred billion dollars—the costliest natural disaster in U.S. history—and the toll in fractured lives is incalculable. Rita, in September, rivaled Wilma in intensity and ravaged the Gulf Coast through western Louisiana and East Texas.\n",
    "'''"
   ]
  },
  {
   "cell_type": "code",
   "execution_count": 26,
   "metadata": {},
   "outputs": [
    {
     "name": "stdout",
     "output_type": "stream",
     "text": [
      "\u001b[93m\u001b[1mGEOGRAPHICAL ENTITIY\u001b[0m || \u001b[95m\u001b[1mTIME INDICATOR\u001b[0m || \u001b[92m\u001b[1mGEOPOLITICAL ENTITIY\u001b[0m || \u001b[96m\u001b[1mNATURAL PHENOMENON\u001b[0m\n",
      "\n",
      "\n",
      "When the fiercest hurricane ever recorded in the \u001b[93m\u001b[1mAtlantic\u001b[0m is bearing down on you, a salvaged armchair under a wood-and-tin awning might seem a poor choice of shelter. But that's where Don E. (\"I'd rather keep my last name out of it\") was parked when \u001b[96m\u001b[1mWilma\u001b[0m hit \u001b[93m\u001b[1mSouth Florida\u001b[0m at \u001b[95m\u001b[1m6:30 a.m.\u001b[0m last \u001b[95m\u001b[1mOctober 24\u001b[0m. For Don and a buddy, it was the start of the workday at Jimbo's Place, a ramshackle beer and bait shop down by the water on \u001b[93m\u001b[1mMiami\u001b[0m's \u001b[93m\u001b[1mVirginia Key\u001b[0m. \"Once we got out here, it was kind of too late to do anything but ride it out,\" Don says with a small laugh. Jimbo's looks like nothing so much as an abandoned shack. But whether through good luck or unexpectedly sound construction, it survived Wilma's fury. Mercifully, the winds had ebbed from 185 miles per hour (297.7 kilometers per hour) at sea to 120 miles per hour (193.1 kilometers per hour) by the time the storm hit, but \u001b[96m\u001b[1mWilma\u001b[0m still left almost all of \u001b[93m\u001b[1mSouth Florida\u001b[0m without power. For the next \u001b[95m\u001b[1mtwo\u001b[0m weeks a generator and donated bags of ice kept Jimbo's open—the only establishment on the key where visitors could be assured of a cold beer and a friendly welcome. \u001b[96m\u001b[1mWilma\u001b[0m was a record breaker in a season of unsettling records. \u001b[96m\u001b[1mKatrina\u001b[0m, at the \u001b[95m\u001b[1mend of August\u001b[0m, killed more than a thousand people and left much of \u001b[93m\u001b[1mNew Orleans\u001b[0m and the neighboring coast in \u001b[93m\u001b[1mruins\u001b[0m. The damage exceeded a hundred billion dollars—the costliest natural disaster in \u001b[93m\u001b[1mU.S.\u001b[0m history—and the toll in fractured lives is incalculable. \u001b[96m\u001b[1mRita\u001b[0m, in \u001b[95m\u001b[1mSeptember\u001b[0m, rivaled \u001b[96m\u001b[1mWilma\u001b[0m in intensity and ravaged the \u001b[93m\u001b[1mGulf Coast\u001b[0m through western \u001b[93m\u001b[1mLouisiana\u001b[0m and \u001b[93m\u001b[1mEast Texas\u001b[0m.\n",
      "\n",
      "\n",
      "\u001b[93m\u001b[1mGEOGRAPHICAL ENTITIY\u001b[0m || \u001b[95m\u001b[1mTIME INDICATOR\u001b[0m || \u001b[92m\u001b[1mGEOPOLITICAL ENTITIY\u001b[0m || \u001b[96m\u001b[1mNATURAL PHENOMENON\u001b[0m\n",
      "\n",
      "\n",
      "When the fiercest hurricane ever recorded in the \u001b[93m\u001b[1mAtlantic\u001b[0m is bearing down on you, a salvaged armchair under a wood-and-tin awning might seem a poor choice of shelter. But that's where Don E. (\"I'd rather keep my last name out of it\") was parked when \u001b[96m\u001b[1mWilma\u001b[0m hit \u001b[93m\u001b[1mSouth Florida\u001b[0m at \u001b[95m\u001b[1m6:30 a.m.\u001b[0m last \u001b[95m\u001b[1mOctober 24\u001b[0m. For Don and a buddy, it was the start of the workday at Jimbo's Place, a ramshackle beer and bait shop down by the water on \u001b[93m\u001b[1mMiami\u001b[0m's \u001b[93m\u001b[1mVirginia\u001b[0m Key. \"Once we got out here, it was kind of too late to do anything but ride it out,\" Don says with a small laugh. Jimbo's looks like nothing so much as an abandoned shack. But whether through good luck or unexpectedly sound construction, it survived Wilma's fury. Mercifully, the winds had ebbed from 185 miles per hour (297.7 kilometers per hour) at sea to 120 miles per hour (193.1 kilometers per hour) by the time the storm hit, but \u001b[96m\u001b[1mWilma\u001b[0m still left almost all of \u001b[93m\u001b[1mSouth Florida\u001b[0m without power. For the next \u001b[95m\u001b[1mtwo\u001b[0m weeks a generator and donated bags of ice kept Jimbo's open—the only establishment on the key where visitors could be assured of a cold beer and a friendly welcome. Wilma was a record breaker in a season of unsettling records. Katrina, at the \u001b[95m\u001b[1mend of August\u001b[0m, killed more than a thousand people and left much of \u001b[93m\u001b[1mNew Orleans\u001b[0m and the neighboring coast in \u001b[93m\u001b[1mruins\u001b[0m. The damage exceeded a hundred billion dollars—the costliest natural disaster in \u001b[93m\u001b[1mU.S.\u001b[0m history—and the toll in fractured lives is incalculable. \u001b[96m\u001b[1mRita\u001b[0m, in \u001b[95m\u001b[1mSeptember\u001b[0m, rivaled \u001b[96m\u001b[1mWilma\u001b[0m in intensity and ravaged the \u001b[93m\u001b[1mGulf Coast\u001b[0m through \u001b[93m\u001b[1mwestern Louisiana\u001b[0m and \u001b[93m\u001b[1mEast Texas\u001b[0m.\n",
      "\n",
      "\n",
      "\u001b[93m\u001b[1mGEOGRAPHICAL ENTITIY\u001b[0m || \u001b[95m\u001b[1mTIME INDICATOR\u001b[0m || \u001b[92m\u001b[1mGEOPOLITICAL ENTITIY\u001b[0m || \u001b[96m\u001b[1mNATURAL PHENOMENON\u001b[0m\n",
      "\n",
      "\n",
      "When the fiercest hurricane ever recorded in the \u001b[93m\u001b[1mAtlantic\u001b[0m is bearing down on you, a salvaged armchair under a wood-and-tin awning might seem a poor choice of shelter. But that's where Don E. (\"I'd rather keep my last name out of it\") was parked when \u001b[96m\u001b[1mWilma\u001b[0m hit \u001b[93m\u001b[1mSouth Florida\u001b[0m at \u001b[95m\u001b[1m6:30 a.m.\u001b[0m last \u001b[95m\u001b[1mOctober 24\u001b[0m. For Don and a buddy, it was the start of the workday at Jimbo's Place, a ramshackle beer and bait shop down by the water on \u001b[93m\u001b[1mMiami\u001b[0m's \u001b[93m\u001b[1mVirginia\u001b[0m Key. \"Once we got out here, it was kind of too late to do anything but ride it out,\" Don says with a small laugh. Jimbo's looks like nothing so much as an abandoned shack. But whether through good luck or unexpectedly sound construction, it survived Wilma's fury. Mercifully, the winds had ebbed from 185 miles per hour (297.7 kilometers per hour) at sea to 120 miles per hour (193.1 kilometers per hour) by the time the storm hit, but \u001b[96m\u001b[1mWilma\u001b[0m still left almost all of \u001b[93m\u001b[1mSouth Florida\u001b[0m without power. For the next \u001b[95m\u001b[1mtwo\u001b[0m weeks a generator and donated bags of ice kept Jimbo's open—the only establishment on the key where visitors could be assured of a cold beer and a friendly welcome. Wilma was a record breaker in a season of unsettling records. Katrina, at the \u001b[95m\u001b[1mend of August\u001b[0m, killed more than a thousand people and left much of \u001b[93m\u001b[1mNew Orleans\u001b[0m and the neighboring coast in \u001b[93m\u001b[1mruins\u001b[0m. The damage exceeded a hundred billion dollars—the costliest natural disaster in \u001b[93m\u001b[1mU.S.\u001b[0m history—and the toll in fractured lives is incalculable. \u001b[96m\u001b[1mRita\u001b[0m, in \u001b[95m\u001b[1mSeptember\u001b[0m, rivaled \u001b[96m\u001b[1mWilma\u001b[0m in intensity and ravaged the \u001b[93m\u001b[1mGulf Coast\u001b[0m through \u001b[93m\u001b[1mwestern Louisiana\u001b[0m and \u001b[93m\u001b[1mEast Texas\u001b[0m.\n",
      "\n"
     ]
    },
    {
     "data": {
      "text/plain": [
       "'\\n'"
      ]
     },
     "execution_count": 26,
     "metadata": {},
     "output_type": "execute_result"
    }
   ],
   "source": [
    "text_to_entities(text2, large)[0][0]\n",
    "print('')\n",
    "text_to_entities(text2, medium)[0][0]\n",
    "print('')\n",
    "text_to_entities(text2, small)[0][0]"
   ]
  },
  {
   "attachments": {},
   "cell_type": "markdown",
   "metadata": {},
   "source": [
    "</br>\n",
    "\n",
    "##### The best model was the large model\n",
    "\n"
   ]
  },
  {
   "cell_type": "code",
   "execution_count": 23,
   "metadata": {},
   "outputs": [],
   "source": [
    "text_irl = ''' \n",
    "Eleven people died and 11 others were injured after 35 buildings were struck across several regions, the state's emergency service said.\n",
    "\n",
    "It added the worst damage to residential buildings was in the Kyiv region.\n",
    "\n",
    "Officials also reported strikes on two energy facilities in the Odesa region.\n",
    "\n",
    "The barrage came as Russia said it perceived the tank offer as \"direct\" Western involvement in the conflict.\n",
    "\n",
    "In what was a sustained and wide-ranging attack, the head of the Ukrainian army said Moscow launched 55 air and sea-based missiles on Thursday.\n",
    "\n",
    "Valery Zaluzhny added that 47 of them were shot down, including 20 around Kyiv .\n",
    "\n",
    "Earlier, Ukraine's air force said it had downed a cluster of Iranian-made attack drones launched by Russian forces from the Sea of Azov in the south of the country.\n",
    "\n",
    "A 55-year-old man was killed and two others wounded when non-residential buildings in the south of the capital were struck, officials reported.\n",
    "\n",
    "The offensive was a continuation of Russia's months-long tactic of targeting Ukraine's infrastructure. The freezing winter has seen power stations\n",
    "'''\n"
   ]
  },
  {
   "cell_type": "code",
   "execution_count": 24,
   "metadata": {},
   "outputs": [
    {
     "name": "stdout",
     "output_type": "stream",
     "text": [
      "\u001b[93m\u001b[1mGEOGRAPHICAL ENTITIY\u001b[0m || \u001b[95m\u001b[1mTIME INDICATOR\u001b[0m || \u001b[92m\u001b[1mGEOPOLITICAL ENTITIY\u001b[0m || \u001b[96m\u001b[1mNATURAL PHENOMENON\u001b[0m\n",
      "\n",
      " \n",
      "Eleven people died and 11 others were injured after 35 buildings were struck across several regions, the state's emergency service said.\n",
      "\n",
      "It added the worst damage to residential buildings was in the \u001b[93m\u001b[1mKyiv\u001b[0m region.\n",
      "\n",
      "Officials also reported strikes on two energy facilities in the \u001b[93m\u001b[1mOdesa\u001b[0m region.\n",
      "\n",
      "The barrage came as \u001b[93m\u001b[1mRussia\u001b[0m said it perceived the tank offer as \"direct\" Western involvement in the conflict.\n",
      "\n",
      "In what was a sustained and wide-ranging attack, the head of the \u001b[92m\u001b[1mUkrainian\u001b[0m army said \u001b[93m\u001b[1mMoscow\u001b[0m launched 55 air and sea-based missiles on \u001b[95m\u001b[1mThursday\u001b[0m.\n",
      "\n",
      "Valery Zaluzhny added that 47 of them were shot down, including 20 around Kyiv .\n",
      "\n",
      "Earlier, \u001b[93m\u001b[1mUkraine\u001b[0m's air force said it had downed a cluster of Iranian-made attack drones launched by \u001b[92m\u001b[1mRussian\u001b[0m forces from \u001b[93m\u001b[1mthe Sea of Azov\u001b[0m in the south of the country.\n",
      "\n",
      "A 55-year-old man was killed and two others wounded when non-residential buildings in the south of the capital were struck, officials reported.\n",
      "\n",
      "The offensive was a continuation of \u001b[93m\u001b[1mRussia\u001b[0m's months-long tactic of targeting \u001b[93m\u001b[1mUkraine\u001b[0m's infrastructure. The freezing winter has seen power stations\n",
      "\n"
     ]
    },
    {
     "data": {
      "text/plain": [
       "' '"
      ]
     },
     "execution_count": 24,
     "metadata": {},
     "output_type": "execute_result"
    }
   ],
   "source": [
    "text_to_entities(text_irl,large)[0][0]"
   ]
  },
  {
   "attachments": {},
   "cell_type": "markdown",
   "metadata": {},
   "source": [
    "However we can see, that it e.g did not recognize Kyiv in the sith row, howeverr it recognized it in the second row.\n",
    "\n",
    "Therefore one suggestion was to seperate all dots from words as it may not recognize the word when special characters are part of the word.\n",
    "\n",
    "Unfortunately it still didn't help. \n",
    "\n"
   ]
  }
 ],
 "metadata": {
  "kernelspec": {
   "display_name": "venv",
   "language": "python",
   "name": "python3"
  },
  "language_info": {
   "codemirror_mode": {
    "name": "ipython",
    "version": 3
   },
   "file_extension": ".py",
   "mimetype": "text/x-python",
   "name": "python",
   "nbconvert_exporter": "python",
   "pygments_lexer": "ipython3",
   "version": "3.10.5"
  },
  "orig_nbformat": 4,
  "vscode": {
   "interpreter": {
    "hash": "5c7757c61c3038b6a2966176a66f79e9ef47a8224ad718662941cbc29bb3b6ef"
   }
  }
 },
 "nbformat": 4,
 "nbformat_minor": 2
}
